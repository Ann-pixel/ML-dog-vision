{
 "cells": [
  {
   "cell_type": "markdown",
   "id": "62623e06",
   "metadata": {},
   "source": [
    "## 🐶 End to end multiclass dogbreed classification."
   ]
  },
  {
   "cell_type": "markdown",
   "id": "f983ab26",
   "metadata": {},
   "source": [
    "This notebook builds an end to end multiclass image classifier using TensorFlow 2.0 and TensorFlowHUb"
   ]
  },
  {
   "cell_type": "markdown",
   "id": "b5c4f51d",
   "metadata": {},
   "source": [
    "### 1. Problem\n",
    "Identifying the breed of a dog, given a picture of that dog.\n",
    "\n",
    "\n",
    "### 2. Data\n",
    "The data we are using is from Kaggle's dogbreed identification classification.\n",
    "https://www.kaggle.com/c/dog-breed-identification#\n",
    "\n",
    "### 3. Evaluation\n",
    "Submissions are evaluated on Multi Class Log Loss between the predicted probability and the observed target.\n",
    "The evaluation is a file wiht prediction probabilities for each dog breed of each test image.\n",
    "\n",
    "### 4. Features\n",
    "Some information about the data.\n",
    "* We're dealing with images(unstructured data) so it is probably best we use deep learning/transfer learning. \n",
    "* There are 120 breeds of dogs (this means there are 120 different classes).\n",
    "* There are around 10k+ images in the train set(images have labels.)\n",
    "* There are around 10k+ images in the test set (images have no labels-we predict them)"
   ]
  },
  {
   "cell_type": "markdown",
   "id": "0bb02a93",
   "metadata": {},
   "source": [
    "## Get our workspace ready"
   ]
  },
  {
   "cell_type": "code",
   "execution_count": 1,
   "id": "d03f81f5",
   "metadata": {},
   "outputs": [],
   "source": [
    "#Import TensorFLow"
   ]
  },
  {
   "cell_type": "code",
   "execution_count": 6,
   "id": "07b17c7a",
   "metadata": {},
   "outputs": [
    {
     "ename": "ModuleNotFoundError",
     "evalue": "No module named 'tensorflow'",
     "output_type": "error",
     "traceback": [
      "\u001b[1;31m---------------------------------------------------------------------------\u001b[0m",
      "\u001b[1;31mModuleNotFoundError\u001b[0m                       Traceback (most recent call last)",
      "\u001b[1;32m<ipython-input-6-82cca52a5b23>\u001b[0m in \u001b[0;36m<module>\u001b[1;34m\u001b[0m\n\u001b[1;32m----> 1\u001b[1;33m \u001b[1;32mimport\u001b[0m \u001b[0mtensorflow\u001b[0m \u001b[1;32mas\u001b[0m \u001b[0mtf\u001b[0m\u001b[1;33m\u001b[0m\u001b[1;33m\u001b[0m\u001b[0m\n\u001b[0m\u001b[0;32m      2\u001b[0m \u001b[0mprint\u001b[0m\u001b[1;33m(\u001b[0m\u001b[1;34m\"TF version\"\u001b[0m\u001b[1;33m,\u001b[0m \u001b[0mtf__version__\u001b[0m\u001b[1;33m)\u001b[0m\u001b[1;33m\u001b[0m\u001b[1;33m\u001b[0m\u001b[0m\n",
      "\u001b[1;31mModuleNotFoundError\u001b[0m: No module named 'tensorflow'"
     ]
    }
   ],
   "source": [
    "import tensorflow as tf\n",
    "print(\"TF version\", tf__version__)"
   ]
  }
 ],
 "metadata": {
  "kernelspec": {
   "display_name": "Python 3",
   "language": "python",
   "name": "python3"
  },
  "language_info": {
   "codemirror_mode": {
    "name": "ipython",
    "version": 3
   },
   "file_extension": ".py",
   "mimetype": "text/x-python",
   "name": "python",
   "nbconvert_exporter": "python",
   "pygments_lexer": "ipython3",
   "version": "3.8.8"
  }
 },
 "nbformat": 4,
 "nbformat_minor": 5
}
