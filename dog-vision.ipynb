{
 "cells": [
  {
   "cell_type": "markdown",
   "id": "62623e06",
   "metadata": {},
   "source": [
    "## 🐶 End to end multiclass dogbreed classification."
   ]
  },
  {
   "cell_type": "markdown",
   "id": "f983ab26",
   "metadata": {},
   "source": [
    "This notebook builds an end to end multiclass image classifier using TensorFlow 2.0 and TensorFlowHUb"
   ]
  },
  {
   "cell_type": "markdown",
   "id": "b5c4f51d",
   "metadata": {},
   "source": [
    "### 1. Problem\n",
    "Identifying the breed of a dog, given a picture of that dog.\n",
    "\n",
    "\n",
    "### 2. Data\n",
    "The data we are using is from Kaggle's dogbreed identification classification.\n",
    "https://www.kaggle.com/c/dog-breed-identification#\n",
    "\n",
    "### 3. Evaluation\n",
    "Submissions are evaluated on Multi Class Log Loss between the predicted probability and the observed target.\n",
    "The evaluation is a file wiht prediction probabilities for each dog breed of each test image.\n",
    "\n",
    "### 4. Features\n",
    "Some information about the data.\n",
    "* We're dealing with images(unstructured data) so it is probably best we use deep learning/transfer learning. \n",
    "* There are 120 breeds of dogs (this means there are 120 different classes)."
   ]
  }
 ],
 "metadata": {
  "kernelspec": {
   "display_name": "Python 3",
   "language": "python",
   "name": "python3"
  },
  "language_info": {
   "codemirror_mode": {
    "name": "ipython",
    "version": 3
   },
   "file_extension": ".py",
   "mimetype": "text/x-python",
   "name": "python",
   "nbconvert_exporter": "python",
   "pygments_lexer": "ipython3",
   "version": "3.8.8"
  }
 },
 "nbformat": 4,
 "nbformat_minor": 5
}
