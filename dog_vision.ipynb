{
  "nbformat": 4,
  "nbformat_minor": 0,
  "metadata": {
    "colab": {
      "name": "dog-vision.ipynb",
      "provenance": [],
      "collapsed_sections": [],
      "toc_visible": true,
      "mount_file_id": "10VHjcfA-kRIeVhrT0KZoaIDg4j9R9K2z",
      "authorship_tag": "ABX9TyMnOj0k4A0iYzWDy9qK5Dol",
      "include_colab_link": true
    },
    "kernelspec": {
      "name": "python3",
      "display_name": "Python 3"
    },
    "language_info": {
      "name": "python"
    },
    "accelerator": "GPU"
  },
  "cells": [
    {
      "cell_type": "markdown",
      "metadata": {
        "id": "view-in-github",
        "colab_type": "text"
      },
      "source": [
        "<a href=\"https://colab.research.google.com/github/Ann-pixel/ML-dog-vision/blob/main/dog_vision.ipynb\" target=\"_parent\"><img src=\"https://colab.research.google.com/assets/colab-badge.svg\" alt=\"Open In Colab\"/></a>"
      ]
    },
    {
      "cell_type": "markdown",
      "source": [
        "# 🐶 End to end Multiclass Dog-breed classification\n",
        "\n",
        "This notebook builds an end-to-end multi-class image classifier using TensorFlow 2.0 and TensorFlowHub\n",
        "\n",
        "### 1. Problem\n",
        "Identifying the breed of a dog, given a picture of that dog.\n",
        "\n",
        "\n",
        "### 2. Data\n",
        "The data we are using is from Kaggle's dogbreed identification classification.\n",
        "https://www.kaggle.com/c/dog-breed-identification#\n",
        "\n",
        "### 3. Evaluation\n",
        "Submissions are evaluated on Multi Class Log Loss between the predicted probability and the observed target.\n",
        "The evaluation is a file wiht prediction probabilities for each dog breed of each test image.\n",
        "\n",
        "### 4. Features\n",
        "Some information about the data.\n",
        "* We're dealing with images(unstructured data) so it is probably best we use deep learning/transfer learning. \n",
        "* There are 120 breeds of dogs (this means there are 120 different classes).\n",
        "* There are around 10k+ images in the train set(images have labels.)\n",
        "* There are around 10k+ images in the test set (images have no labels-we predict them)"
      ],
      "metadata": {
        "id": "m8ckECfAznZs"
      }
    },
    {
      "cell_type": "code",
      "source": [
        "#unzip zipped file using code.\n",
        "# !unzip \"/content/drive/MyDrive/Dog Vision/dog-breed-identification.zip\" -d \"/content/drive/MyDrive/Dog Vision\""
      ],
      "metadata": {
        "id": "O6HgSVw3xrZc"
      },
      "execution_count": null,
      "outputs": []
    },
    {
      "cell_type": "markdown",
      "source": [
        "### Getting our workspace ready\n",
        "* import TensorFlow 2.x\n",
        "* import TensorFlow Hub\n",
        "* Make sure we're using a GPU."
      ],
      "metadata": {
        "id": "cQxFI5B71y2j"
      }
    },
    {
      "cell_type": "code",
      "source": [
        "#import tensorflow into our google colab\n",
        "import tensorflow as tf\n",
        "import tensorflow_hub as hub\n",
        "print(\"TF version\",tf.__version__ )\n",
        "print(\"TF Hub version\", hub.__version__ )\n",
        "\n",
        "#Check for GPU availablility\n",
        "print(\"GPU\", \"available!!!\" if tf.config.list_physical_devices(\"GPU\") else \"not available\")"
      ],
      "metadata": {
        "colab": {
          "base_uri": "https://localhost:8080/"
        },
        "id": "wSeWZNHE1jx7",
        "outputId": "ab35868e-0abf-41df-ce4e-367ef9deca0e"
      },
      "execution_count": 2,
      "outputs": [
        {
          "output_type": "stream",
          "name": "stdout",
          "text": [
            "TF version 2.7.0\n",
            "TF Hub version 0.12.0\n",
            "GPU available!!!\n"
          ]
        }
      ]
    },
    {
      "cell_type": "code",
      "source": [
        ""
      ],
      "metadata": {
        "id": "ROfTfv22ZiKx"
      },
      "execution_count": null,
      "outputs": []
    }
  ]
}